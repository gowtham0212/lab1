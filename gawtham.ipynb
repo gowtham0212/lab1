{
 "cells": [
  {
   "cell_type": "code",
   "execution_count": null,
   "metadata": {},
   "outputs": [],
   "source": [
    "import csv\n",
    "file=open('danush.csv')\n",
    "data=list(csv.reader(file))\n",
    "length=len(data[0])-1\n",
    "h=['0']*length\n",
    "print(\"INITIAL HYPOTHESIS:\",h)\n",
    "print('DATA GIVEN IS:')\n",
    "for i in data:\n",
    "    print(i)\n",
    "data.pop(0)\n",
    "for i in range(len(data)):\n",
    "    if data[i][length]=='Yes':\n",
    "        for j in range (len(data[i])-1):\n",
    "            if h[j]=='0':\n",
    "                h[j]=data[i][j]\n",
    "            if h[j]!=data[i][j]:\n",
    "                h[j]='?'\n",
    "print(\"FINAL HYPOTHESIS(most specific):\",h)"
   ]
  }
 ],
 "metadata": {
  "kernelspec": {
   "display_name": "Python 3",
   "language": "python",
   "name": "python3"
  },
  "language_info": {
   "codemirror_mode": {
    "name": "ipython",
    "version": 3
   },
   "file_extension": ".py",
   "mimetype": "text/x-python",
   "name": "python",
   "nbconvert_exporter": "python",
   "pygments_lexer": "ipython3",
   "version": "3.5.6"
  }
 },
 "nbformat": 4,
 "nbformat_minor": 2
}
